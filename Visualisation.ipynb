{
 "cells": [
  {
   "cell_type": "code",
   "execution_count": 28,
   "metadata": {},
   "outputs": [],
   "source": [
    "library(ggplot2)\n",
    "library(dplyr)\n",
    "library(hrbrthemes)"
   ]
  },
  {
   "cell_type": "code",
   "execution_count": 29,
   "metadata": {},
   "outputs": [],
   "source": [
    "options(repr.plot.width=6, repr.plot.height=4)"
   ]
  },
  {
   "cell_type": "code",
   "execution_count": 30,
   "metadata": {},
   "outputs": [],
   "source": [
    "grad_emp <- read.csv(\"grad_employment.csv\")"
   ]
  },
  {
   "cell_type": "code",
   "execution_count": 31,
   "metadata": {},
   "outputs": [
    {
     "data": {
      "text/html": [
       "<table>\n",
       "<thead><tr><th scope=col>year</th><th scope=col>university</th><th scope=col>school</th><th scope=col>degree</th><th scope=col>employment_rate_overall</th><th scope=col>employment_rate_ft_perm</th><th scope=col>basic_monthly_mean</th><th scope=col>basic_monthly_median</th><th scope=col>gross_monthly_mean</th><th scope=col>gross_monthly_median</th><th scope=col>gross_mthly_25_percentile</th><th scope=col>gross_mthly_75_percentile</th></tr></thead>\n",
       "<tbody>\n",
       "\t<tr><td>2013                                                                                     </td><td>National University of Singapore                                                         </td><td>Faculty of Arts &amp; Social Sciences                                                    </td><td><span style=white-space:pre-wrap>Bachelor of Arts                                 </span></td><td>84.8                                                                                     </td><td>70.1                                                                                     </td><td>2741                                                                                     </td><td>2730                                                                                     </td><td>2888                                                                                     </td><td>2800                                                                                     </td><td>2500                                                                                     </td><td>3080                                                                                     </td></tr>\n",
       "\t<tr><td>2013                                                                                     </td><td>National University of Singapore                                                         </td><td>Faculty of Arts &amp; Social Sciences                                                    </td><td><span style=white-space:pre-wrap>Bachelor of Arts (Hons)                          </span></td><td>86.6                                                                                     </td><td>74.6                                                                                     </td><td>3057                                                                                     </td><td>3200                                                                                     </td><td>3154                                                                                     </td><td>3200                                                                                     </td><td>2800                                                                                     </td><td>3500                                                                                     </td></tr>\n",
       "\t<tr><td>2013                                                                                     </td><td>National University of Singapore                                                         </td><td>Faculty of Arts &amp; Social Sciences                                                    </td><td><span style=white-space:pre-wrap>Bachelor of Social Sciences                      </span></td><td>88.1                                                                                     </td><td>76.8                                                                                     </td><td>3098                                                                                     </td><td>3100                                                                                     </td><td>3210                                                                                     </td><td>3200                                                                                     </td><td>2800                                                                                     </td><td>3500                                                                                     </td></tr>\n",
       "\t<tr><td>2013                                             </td><td>National University of Singapore                 </td><td>NUS Business School                              </td><td>Bachelor of Business Administration              </td><td>88.7                                             </td><td>81.7                                             </td><td>2960                                             </td><td>2868                                             </td><td>3062                                             </td><td>3000                                             </td><td>2700                                             </td><td>3370                                             </td></tr>\n",
       "\t<tr><td>2013                                             </td><td>National University of Singapore                 </td><td>NUS Business School                              </td><td>Bachelor of Business Administration (Hons)       </td><td>94.6                                             </td><td>90.3                                             </td><td>3404                                             </td><td>3050                                             </td><td>3512                                             </td><td>3200                                             </td><td>2800                                             </td><td>3800                                             </td></tr>\n",
       "\t<tr><td>2013                                             </td><td>National University of Singapore                 </td><td>NUS Business School                              </td><td>Bachelor of Business Administration (Accountancy)</td><td>93.3                                             </td><td>88.9                                             </td><td>2740                                             </td><td>2700                                             </td><td>2922                                             </td><td>2700                                             </td><td>2700                                             </td><td>3018                                             </td></tr>\n",
       "</tbody>\n",
       "</table>\n"
      ],
      "text/latex": [
       "\\begin{tabular}{r|llllllllllll}\n",
       " year & university & school & degree & employment\\_rate\\_overall & employment\\_rate\\_ft\\_perm & basic\\_monthly\\_mean & basic\\_monthly\\_median & gross\\_monthly\\_mean & gross\\_monthly\\_median & gross\\_mthly\\_25\\_percentile & gross\\_mthly\\_75\\_percentile\\\\\n",
       "\\hline\n",
       "\t 2013                                              & National University of Singapore                  & Faculty of Arts \\& Social Sciences               & Bachelor of Arts                                  & 84.8                                              & 70.1                                              & 2741                                              & 2730                                              & 2888                                              & 2800                                              & 2500                                              & 3080                                             \\\\\n",
       "\t 2013                                              & National University of Singapore                  & Faculty of Arts \\& Social Sciences               & Bachelor of Arts (Hons)                           & 86.6                                              & 74.6                                              & 3057                                              & 3200                                              & 3154                                              & 3200                                              & 2800                                              & 3500                                             \\\\\n",
       "\t 2013                                              & National University of Singapore                  & Faculty of Arts \\& Social Sciences               & Bachelor of Social Sciences                       & 88.1                                              & 76.8                                              & 3098                                              & 3100                                              & 3210                                              & 3200                                              & 2800                                              & 3500                                             \\\\\n",
       "\t 2013                                              & National University of Singapore                  & NUS Business School                               & Bachelor of Business Administration               & 88.7                                              & 81.7                                              & 2960                                              & 2868                                              & 3062                                              & 3000                                              & 2700                                              & 3370                                             \\\\\n",
       "\t 2013                                              & National University of Singapore                  & NUS Business School                               & Bachelor of Business Administration (Hons)        & 94.6                                              & 90.3                                              & 3404                                              & 3050                                              & 3512                                              & 3200                                              & 2800                                              & 3800                                             \\\\\n",
       "\t 2013                                              & National University of Singapore                  & NUS Business School                               & Bachelor of Business Administration (Accountancy) & 93.3                                              & 88.9                                              & 2740                                              & 2700                                              & 2922                                              & 2700                                              & 2700                                              & 3018                                             \\\\\n",
       "\\end{tabular}\n"
      ],
      "text/markdown": [
       "\n",
       "| year | university | school | degree | employment_rate_overall | employment_rate_ft_perm | basic_monthly_mean | basic_monthly_median | gross_monthly_mean | gross_monthly_median | gross_mthly_25_percentile | gross_mthly_75_percentile |\n",
       "|---|---|---|---|---|---|---|---|---|---|---|---|\n",
       "| 2013                                              | National University of Singapore                  | Faculty of Arts & Social Sciences                 | Bachelor of Arts                                  | 84.8                                              | 70.1                                              | 2741                                              | 2730                                              | 2888                                              | 2800                                              | 2500                                              | 3080                                              |\n",
       "| 2013                                              | National University of Singapore                  | Faculty of Arts & Social Sciences                 | Bachelor of Arts (Hons)                           | 86.6                                              | 74.6                                              | 3057                                              | 3200                                              | 3154                                              | 3200                                              | 2800                                              | 3500                                              |\n",
       "| 2013                                              | National University of Singapore                  | Faculty of Arts & Social Sciences                 | Bachelor of Social Sciences                       | 88.1                                              | 76.8                                              | 3098                                              | 3100                                              | 3210                                              | 3200                                              | 2800                                              | 3500                                              |\n",
       "| 2013                                              | National University of Singapore                  | NUS Business School                               | Bachelor of Business Administration               | 88.7                                              | 81.7                                              | 2960                                              | 2868                                              | 3062                                              | 3000                                              | 2700                                              | 3370                                              |\n",
       "| 2013                                              | National University of Singapore                  | NUS Business School                               | Bachelor of Business Administration (Hons)        | 94.6                                              | 90.3                                              | 3404                                              | 3050                                              | 3512                                              | 3200                                              | 2800                                              | 3800                                              |\n",
       "| 2013                                              | National University of Singapore                  | NUS Business School                               | Bachelor of Business Administration (Accountancy) | 93.3                                              | 88.9                                              | 2740                                              | 2700                                              | 2922                                              | 2700                                              | 2700                                              | 3018                                              |\n",
       "\n"
      ],
      "text/plain": [
       "  year university                       school                           \n",
       "1 2013 National University of Singapore Faculty of Arts & Social Sciences\n",
       "2 2013 National University of Singapore Faculty of Arts & Social Sciences\n",
       "3 2013 National University of Singapore Faculty of Arts & Social Sciences\n",
       "4 2013 National University of Singapore NUS Business School              \n",
       "5 2013 National University of Singapore NUS Business School              \n",
       "6 2013 National University of Singapore NUS Business School              \n",
       "  degree                                            employment_rate_overall\n",
       "1 Bachelor of Arts                                  84.8                   \n",
       "2 Bachelor of Arts (Hons)                           86.6                   \n",
       "3 Bachelor of Social Sciences                       88.1                   \n",
       "4 Bachelor of Business Administration               88.7                   \n",
       "5 Bachelor of Business Administration (Hons)        94.6                   \n",
       "6 Bachelor of Business Administration (Accountancy) 93.3                   \n",
       "  employment_rate_ft_perm basic_monthly_mean basic_monthly_median\n",
       "1 70.1                    2741               2730                \n",
       "2 74.6                    3057               3200                \n",
       "3 76.8                    3098               3100                \n",
       "4 81.7                    2960               2868                \n",
       "5 90.3                    3404               3050                \n",
       "6 88.9                    2740               2700                \n",
       "  gross_monthly_mean gross_monthly_median gross_mthly_25_percentile\n",
       "1 2888               2800                 2500                     \n",
       "2 3154               3200                 2800                     \n",
       "3 3210               3200                 2800                     \n",
       "4 3062               3000                 2700                     \n",
       "5 3512               3200                 2800                     \n",
       "6 2922               2700                 2700                     \n",
       "  gross_mthly_75_percentile\n",
       "1 3080                     \n",
       "2 3500                     \n",
       "3 3500                     \n",
       "4 3370                     \n",
       "5 3800                     \n",
       "6 3018                     "
      ]
     },
     "metadata": {},
     "output_type": "display_data"
    }
   ],
   "source": [
    "head(grad_emp)"
   ]
  },
  {
   "cell_type": "code",
   "execution_count": 32,
   "metadata": {},
   "outputs": [
    {
     "data": {
      "image/png": "[encoded data removed]",
      "text/plain": [
       "plot without title"
      ]
     },
     "metadata": {},
     "output_type": "display_data"
    }
   ],
   "source": [
    "grad_emp %>%\n",
    "  ggplot(aes(x=employment_rate_overall, y=basic_monthly_mean)) + \n",
    "    geom_point(\n",
    "        color=\"black\",\n",
    "        fill=\"#D55E00\",\n",
    "        shape=21,\n",
    "        alpha=0.5,\n",
    "        size=2,\n",
    "        stroke = 1\n",
    "        )+\n",
    "  theme(panel.border = element_rect(colour = \"black\", fill=NA, size=1),\n",
    "    panel.background = element_blank())+\n",
    "  labs(title = \"Overall employement rate VS average salaries \\nfor different NUS degrees\",\n",
    "       x = \"Overall employement rate\",\n",
    "       y = \"Monthly average salaries\"\n",
    "       )+\n",
    "  theme(\n",
    "  axis.title.x = element_text(size = 14),\n",
    "  axis.text.x = element_text(size = 14),\n",
    "  axis.text.y = element_text(size = 14),\n",
    "  axis.title.y = element_text(size = 14))"
   ]
  },
  {
   "cell_type": "code",
   "execution_count": 33,
   "metadata": {},
   "outputs": [],
   "source": [
    "data1 <- read.csv(\"Fertility.csv\")"
   ]
  },
  {
   "cell_type": "code",
   "execution_count": 34,
   "metadata": {},
   "outputs": [
    {
     "data": {
      "text/html": [
       "<table>\n",
       "<thead><tr><th scope=col>fertility.rate</th><th scope=col>worker.percent</th></tr></thead>\n",
       "<tbody>\n",
       "\t<tr><td>3.71 </td><td>28.33</td></tr>\n",
       "\t<tr><td>3.59 </td><td>28.72</td></tr>\n",
       "\t<tr><td>3.48 </td><td>29.18</td></tr>\n",
       "\t<tr><td>3.37 </td><td>29.67</td></tr>\n",
       "\t<tr><td>3.27 </td><td>30.17</td></tr>\n",
       "\t<tr><td>3.17 </td><td>30.66</td></tr>\n",
       "</tbody>\n",
       "</table>\n"
      ],
      "text/latex": [
       "\\begin{tabular}{r|ll}\n",
       " fertility.rate & worker.percent\\\\\n",
       "\\hline\n",
       "\t 3.71  & 28.33\\\\\n",
       "\t 3.59  & 28.72\\\\\n",
       "\t 3.48  & 29.18\\\\\n",
       "\t 3.37  & 29.67\\\\\n",
       "\t 3.27  & 30.17\\\\\n",
       "\t 3.17  & 30.66\\\\\n",
       "\\end{tabular}\n"
      ],
      "text/markdown": [
       "\n",
       "| fertility.rate | worker.percent |\n",
       "|---|---|\n",
       "| 3.71  | 28.33 |\n",
       "| 3.59  | 28.72 |\n",
       "| 3.48  | 29.18 |\n",
       "| 3.37  | 29.67 |\n",
       "| 3.27  | 30.17 |\n",
       "| 3.17  | 30.66 |\n",
       "\n"
      ],
      "text/plain": [
       "  fertility.rate worker.percent\n",
       "1 3.71           28.33         \n",
       "2 3.59           28.72         \n",
       "3 3.48           29.18         \n",
       "4 3.37           29.67         \n",
       "5 3.27           30.17         \n",
       "6 3.17           30.66         "
      ]
     },
     "metadata": {},
     "output_type": "display_data"
    }
   ],
   "source": [
    "head(data1)"
   ]
  },
  {
   "cell_type": "code",
   "execution_count": 35,
   "metadata": {},
   "outputs": [
    {
     "data": {
      "image/png": "[encoded data removed]",
      "text/plain": [
       "plot without title"
      ]
     },
     "metadata": {},
     "output_type": "display_data"
    }
   ],
   "source": [
    "data1 %>%\n",
    "  ggplot(aes(x=fertility.rate, y=worker.percent)) + \n",
    "    geom_point(\n",
    "        color=\"black\",\n",
    "        fill=\"#D55E00\",\n",
    "        shape=21,\n",
    "        alpha=0.5,\n",
    "        size=4,\n",
    "        stroke = 1\n",
    "        )+\n",
    "  theme(panel.border = element_rect(colour = \"black\", fill=NA, size=1),\n",
    "    panel.background = element_blank())+\n",
    "  labs(title = \"Fertility rate Vs female worker percentage for \\nBangladesh over 23 years\",\n",
    "       x = \"Fertility Rate\",\n",
    "       y = \"Female worker percentage\"\n",
    "       )+\n",
    "  theme(\n",
    "  axis.title.x = element_text(size = 14),\n",
    "  axis.text.x = element_text(size = 12),\n",
    "  axis.text.y = element_text(size = 12),\n",
    "  axis.title.y = element_text(size = 14))"
   ]
  },
  {
   "cell_type": "code",
   "execution_count": 36,
   "metadata": {},
   "outputs": [],
   "source": [
    "data2 <- read.csv(\"05-17-2020.csv\")"
   ]
  },
  {
   "cell_type": "code",
   "execution_count": 37,
   "metadata": {},
   "outputs": [
    {
     "data": {
      "text/html": [
       "<table>\n",
       "<thead><tr><th scope=col>Province_State</th><th scope=col>Country_Region</th><th scope=col>Last_Update</th><th scope=col>Lat</th><th scope=col>Long_</th><th scope=col>Confirmed</th><th scope=col>Deaths</th><th scope=col>Recovered</th><th scope=col>Active</th><th scope=col>FIPS</th><th scope=col>Incident_Rate</th><th scope=col>People_Tested</th><th scope=col>People_Hospitalized</th><th scope=col>Mortality_Rate</th><th scope=col>UID</th><th scope=col>ISO3</th><th scope=col>Testing_Rate</th><th scope=col>Hospitalization_Rate</th></tr></thead>\n",
       "<tbody>\n",
       "\t<tr><td>Alabama            </td><td>US                 </td><td>2020-05-18 02:32:26</td><td> 32.3182           </td><td> -86.9023          </td><td>11771              </td><td> 488               </td><td>  NA               </td><td>11283              </td><td> 1                 </td><td>240.06845          </td><td> 156350            </td><td>1392               </td><td>4.145782           </td><td>84000001           </td><td>USA                </td><td>3188.7436          </td><td>11.82567           </td></tr>\n",
       "\t<tr><td>Alaska             </td><td>US                 </td><td>2020-05-18 02:32:26</td><td> 61.3707           </td><td>-152.4044          </td><td>  388              </td><td>  10               </td><td> 344               </td><td>   34              </td><td> 2                 </td><td> 53.03843          </td><td>  34651            </td><td>  NA               </td><td>2.577320           </td><td>84000002           </td><td>USA                </td><td>4736.6874          </td><td>      NA           </td></tr>\n",
       "\t<tr><td>American Samoa     </td><td>US                 </td><td>2020-05-18 02:32:26</td><td>-14.2710           </td><td>-170.1320          </td><td>    0              </td><td>   0               </td><td>  NA               </td><td>    0              </td><td>60                 </td><td>  0.00000          </td><td>    105            </td><td>  NA               </td><td>      NA           </td><td>      16           </td><td>ASM                </td><td> 188.7098          </td><td>      NA           </td></tr>\n",
       "\t<tr><td>Arizona            </td><td>US                 </td><td>2020-05-18 02:32:26</td><td> 33.7298           </td><td>-111.4312          </td><td>13945              </td><td> 680               </td><td>3450               </td><td> 9815              </td><td> 4                 </td><td>191.58596          </td><td> 151761            </td><td>1699               </td><td>4.876300           </td><td>84000004           </td><td>USA                </td><td>2084.9966          </td><td>12.18358           </td></tr>\n",
       "\t<tr><td>Arkansas           </td><td>US                 </td><td>2020-05-18 02:32:26</td><td> 34.9697           </td><td> -92.3731          </td><td> 4759              </td><td>  98               </td><td>3590               </td><td> 1071              </td><td> 5                 </td><td>157.69745          </td><td>  85185            </td><td> 520               </td><td>2.059256           </td><td>84000005           </td><td>USA                </td><td>2822.7479          </td><td>10.92667           </td></tr>\n",
       "\t<tr><td>California         </td><td>US                 </td><td>2020-05-18 02:32:26</td><td> 36.1162           </td><td>-119.6816          </td><td>80166              </td><td>3240               </td><td>  NA               </td><td>76926              </td><td> 6                 </td><td>202.88912          </td><td>1235243            </td><td>  NA               </td><td>4.041614           </td><td>84000006           </td><td>USA                </td><td>3126.2301          </td><td>      NA           </td></tr>\n",
       "</tbody>\n",
       "</table>\n"
      ],
      "text/latex": [
       "\\begin{tabular}{r|llllllllllllllllll}\n",
       " Province\\_State & Country\\_Region & Last\\_Update & Lat & Long\\_ & Confirmed & Deaths & Recovered & Active & FIPS & Incident\\_Rate & People\\_Tested & People\\_Hospitalized & Mortality\\_Rate & UID & ISO3 & Testing\\_Rate & Hospitalization\\_Rate\\\\\n",
       "\\hline\n",
       "\t Alabama             & US                  & 2020-05-18 02:32:26 &  32.3182            &  -86.9023           & 11771               &  488                &   NA                & 11283               &  1                  & 240.06845           &  156350             & 1392                & 4.145782            & 84000001            & USA                 & 3188.7436           & 11.82567           \\\\\n",
       "\t Alaska              & US                  & 2020-05-18 02:32:26 &  61.3707            & -152.4044           &   388               &   10                &  344                &    34               &  2                  &  53.03843           &   34651             &   NA                & 2.577320            & 84000002            & USA                 & 4736.6874           &       NA           \\\\\n",
       "\t American Samoa      & US                  & 2020-05-18 02:32:26 & -14.2710            & -170.1320           &     0               &    0                &   NA                &     0               & 60                  &   0.00000           &     105             &   NA                &       NA            &       16            & ASM                 &  188.7098           &       NA           \\\\\n",
       "\t Arizona             & US                  & 2020-05-18 02:32:26 &  33.7298            & -111.4312           & 13945               &  680                & 3450                &  9815               &  4                  & 191.58596           &  151761             & 1699                & 4.876300            & 84000004            & USA                 & 2084.9966           & 12.18358           \\\\\n",
       "\t Arkansas            & US                  & 2020-05-18 02:32:26 &  34.9697            &  -92.3731           &  4759               &   98                & 3590                &  1071               &  5                  & 157.69745           &   85185             &  520                & 2.059256            & 84000005            & USA                 & 2822.7479           & 10.92667           \\\\\n",
       "\t California          & US                  & 2020-05-18 02:32:26 &  36.1162            & -119.6816           & 80166               & 3240                &   NA                & 76926               &  6                  & 202.88912           & 1235243             &   NA                & 4.041614            & 84000006            & USA                 & 3126.2301           &       NA           \\\\\n",
       "\\end{tabular}\n"
      ],
      "text/markdown": [
       "\n",
       "| Province_State | Country_Region | Last_Update | Lat | Long_ | Confirmed | Deaths | Recovered | Active | FIPS | Incident_Rate | People_Tested | People_Hospitalized | Mortality_Rate | UID | ISO3 | Testing_Rate | Hospitalization_Rate |\n",
       "|---|---|---|---|---|---|---|---|---|---|---|---|---|---|---|---|---|---|\n",
       "| Alabama             | US                  | 2020-05-18 02:32:26 |  32.3182            |  -86.9023           | 11771               |  488                |   NA                | 11283               |  1                  | 240.06845           |  156350             | 1392                | 4.145782            | 84000001            | USA                 | 3188.7436           | 11.82567            |\n",
       "| Alaska              | US                  | 2020-05-18 02:32:26 |  61.3707            | -152.4044           |   388               |   10                |  344                |    34               |  2                  |  53.03843           |   34651             |   NA                | 2.577320            | 84000002            | USA                 | 4736.6874           |       NA            |\n",
       "| American Samoa      | US                  | 2020-05-18 02:32:26 | -14.2710            | -170.1320           |     0               |    0                |   NA                |     0               | 60                  |   0.00000           |     105             |   NA                |       NA            |       16            | ASM                 |  188.7098           |       NA            |\n",
       "| Arizona             | US                  | 2020-05-18 02:32:26 |  33.7298            | -111.4312           | 13945               |  680                | 3450                |  9815               |  4                  | 191.58596           |  151761             | 1699                | 4.876300            | 84000004            | USA                 | 2084.9966           | 12.18358            |\n",
       "| Arkansas            | US                  | 2020-05-18 02:32:26 |  34.9697            |  -92.3731           |  4759               |   98                | 3590                |  1071               |  5                  | 157.69745           |   85185             |  520                | 2.059256            | 84000005            | USA                 | 2822.7479           | 10.92667            |\n",
       "| California          | US                  | 2020-05-18 02:32:26 |  36.1162            | -119.6816           | 80166               | 3240                |   NA                | 76926               |  6                  | 202.88912           | 1235243             |   NA                | 4.041614            | 84000006            | USA                 | 3126.2301           |       NA            |\n",
       "\n"
      ],
      "text/plain": [
       "  Province_State Country_Region Last_Update         Lat      Long_    \n",
       "1 Alabama        US             2020-05-18 02:32:26  32.3182  -86.9023\n",
       "2 Alaska         US             2020-05-18 02:32:26  61.3707 -152.4044\n",
       "3 American Samoa US             2020-05-18 02:32:26 -14.2710 -170.1320\n",
       "4 Arizona        US             2020-05-18 02:32:26  33.7298 -111.4312\n",
       "5 Arkansas       US             2020-05-18 02:32:26  34.9697  -92.3731\n",
       "6 California     US             2020-05-18 02:32:26  36.1162 -119.6816\n",
       "  Confirmed Deaths Recovered Active FIPS Incident_Rate People_Tested\n",
       "1 11771      488     NA      11283   1   240.06845      156350      \n",
       "2   388       10    344         34   2    53.03843       34651      \n",
       "3     0        0     NA          0  60     0.00000         105      \n",
       "4 13945      680   3450       9815   4   191.58596      151761      \n",
       "5  4759       98   3590       1071   5   157.69745       85185      \n",
       "6 80166     3240     NA      76926   6   202.88912     1235243      \n",
       "  People_Hospitalized Mortality_Rate UID      ISO3 Testing_Rate\n",
       "1 1392                4.145782       84000001 USA  3188.7436   \n",
       "2   NA                2.577320       84000002 USA  4736.6874   \n",
       "3   NA                      NA             16 ASM   188.7098   \n",
       "4 1699                4.876300       84000004 USA  2084.9966   \n",
       "5  520                2.059256       84000005 USA  2822.7479   \n",
       "6   NA                4.041614       84000006 USA  3126.2301   \n",
       "  Hospitalization_Rate\n",
       "1 11.82567            \n",
       "2       NA            \n",
       "3       NA            \n",
       "4 12.18358            \n",
       "5 10.92667            \n",
       "6       NA            "
      ]
     },
     "metadata": {},
     "output_type": "display_data"
    }
   ],
   "source": [
    "head(data2)"
   ]
  },
  {
   "cell_type": "code",
   "execution_count": 38,
   "metadata": {},
   "outputs": [
    {
     "name": "stderr",
     "output_type": "stream",
     "text": [
      "Warning message:\n",
      "\"Removed 25 rows containing missing values (geom_point).\""
     ]
    },
    {
     "data": {
      "image/png": "[encoded data removed]",
      "text/plain": [
       "plot without title"
      ]
     },
     "metadata": {},
     "output_type": "display_data"
    }
   ],
   "source": [
    "data2 %>%\n",
    "ggplot(aes(x=Hospitalization_Rate, y=Mortality_Rate)) + \n",
    "    geom_point(\n",
    "        color=\"black\",\n",
    "        fill=\"#D55E00\",\n",
    "        shape=21,\n",
    "        alpha=0.5,\n",
    "        size=6,\n",
    "        stroke = 1\n",
    "        ) +\n",
    "    theme_classic()+\n",
    "  theme(panel.border = element_rect(colour = \"black\", fill=NA, size=1),\n",
    "    panel.background = element_blank())+\n",
    "  labs(title = \"Hospitalization rate VS Mortality rate for US states\",\n",
    "       x = \"Hospitalization Rate\",\n",
    "       y = \"Mortality Rate\")+\n",
    "  theme(\n",
    "  axis.title.x = element_text(size = 14),\n",
    "  axis.text.x = element_text(size = 12),\n",
    "  axis.text.y = element_text(size = 12),\n",
    "  axis.title.y = element_text(size = 14))"
   ]
  },
  {
   "cell_type": "code",
   "execution_count": 51,
   "metadata": {},
   "outputs": [
    {
     "name": "stderr",
     "output_type": "stream",
     "text": [
      "Warning message:\n",
      "\"Removed 25 rows containing missing values (geom_point).\""
     ]
    },
    {
     "data": {
      "image/png": "[encoded data removed]",
      "text/plain": [
       "plot without title"
      ]
     },
     "metadata": {},
     "output_type": "display_data"
    }
   ],
   "source": [
    "data2 %>%\n",
    "ggplot(aes(x=Hospitalization_Rate, y=Mortality_Rate, size = Confirmed)) + \n",
    "    geom_point(\n",
    "        color=\"black\",\n",
    "        fill=\"#D55E00\",\n",
    "        shape=21,\n",
    "        alpha=0.5,\n",
    "        #size=4,\n",
    "        stroke = 1\n",
    "        ) +\n",
    "  scale_size(range = c(2, 24), name=\"Number of confirmed cases\")+\n",
    "    theme_classic()+\n",
    "  theme(panel.border = element_rect(colour = \"black\", fill=NA, size=1),\n",
    "    panel.background = element_blank())+\n",
    "  labs(title = \"COVID-19 Hospitalization rate VS Mortality rate \\nfor US states\",\n",
    "       x = \"Hospitalization Rate\",\n",
    "       y = \"Mortality Rate\")+\n",
    "  theme(\n",
    "  axis.title.x = element_text(size = 14),\n",
    "  axis.text.x = element_text(size = 12),\n",
    "  axis.text.y = element_text(size = 12),\n",
    "  axis.title.y = element_text(size = 14))"
   ]
  },
  {
   "cell_type": "code",
   "execution_count": 40,
   "metadata": {},
   "outputs": [
    {
     "data": {
      "text/html": [
       "<table>\n",
       "<thead><tr><th></th><th scope=col>Province.State</th><th scope=col>Country.Region</th><th scope=col>Lat</th><th scope=col>Long</th><th scope=col>X1.22.20</th><th scope=col>X1.23.20</th><th scope=col>X1.24.20</th><th scope=col>X1.25.20</th><th scope=col>X1.26.20</th><th scope=col>X1.27.20</th><th scope=col>...</th><th scope=col>X5.9.20</th><th scope=col>X5.10.20</th><th scope=col>X5.11.20</th><th scope=col>X5.12.20</th><th scope=col>X5.13.20</th><th scope=col>X5.14.20</th><th scope=col>X5.15.20</th><th scope=col>X5.16.20</th><th scope=col>X5.17.20</th><th scope=col>loc</th></tr></thead>\n",
       "<tbody>\n",
       "\t<tr><th scope=row>Afghanistan</th><td>                   </td><td>Afghanistan        </td><td> 33.0000           </td><td> 65.0000           </td><td>0                  </td><td>0                  </td><td>0                  </td><td>0                  </td><td>0                  </td><td>0                  </td><td>...                </td><td> 502               </td><td> 558               </td><td> 558               </td><td> 610               </td><td> 648               </td><td> 691               </td><td> 745               </td><td> 745               </td><td> 778               </td><td>Afghanistan        </td></tr>\n",
       "\t<tr><th scope=row>Albania</th><td>                   </td><td>Albania            </td><td> 41.1533           </td><td> 20.1683           </td><td>0                  </td><td>0                  </td><td>0                  </td><td>0                  </td><td>0                  </td><td>0                  </td><td>...                </td><td> 627               </td><td> 650               </td><td> 654               </td><td> 682               </td><td> 688               </td><td> 694               </td><td> 705               </td><td> 714               </td><td> 715               </td><td>Albania            </td></tr>\n",
       "\t<tr><th scope=row>Algeria</th><td>                   </td><td>Algeria            </td><td> 28.0339           </td><td>  1.6596           </td><td>0                  </td><td>0                  </td><td>0                  </td><td>0                  </td><td>0                  </td><td>0                  </td><td>...                </td><td>2546               </td><td>2678               </td><td>2841               </td><td>2998               </td><td>3058               </td><td>3158               </td><td>3271               </td><td>3409               </td><td>3507               </td><td>Algeria            </td></tr>\n",
       "\t<tr><th scope=row>Andorra</th><td>                   </td><td>Andorra            </td><td> 42.5063           </td><td>  1.5218           </td><td>0                  </td><td>0                  </td><td>0                  </td><td>0                  </td><td>0                  </td><td>0                  </td><td>...                </td><td> 545               </td><td> 550               </td><td> 550               </td><td> 568               </td><td> 576               </td><td> 596               </td><td> 604               </td><td> 615               </td><td> 617               </td><td>Andorra            </td></tr>\n",
       "\t<tr><th scope=row>Angola</th><td>                   </td><td>Angola             </td><td>-11.2027           </td><td> 17.8739           </td><td>0                  </td><td>0                  </td><td>0                  </td><td>0                  </td><td>0                  </td><td>0                  </td><td>...                </td><td>  13               </td><td>  13               </td><td>  13               </td><td>  13               </td><td>  14               </td><td>  14               </td><td>  17               </td><td>  17               </td><td>  17               </td><td>Angola             </td></tr>\n",
       "\t<tr><th scope=row>Antigua and Barbuda</th><td>                   </td><td>Antigua and Barbuda</td><td> 17.0608           </td><td>-61.7964           </td><td>0                  </td><td>0                  </td><td>0                  </td><td>0                  </td><td>0                  </td><td>0                  </td><td>...                </td><td>  19               </td><td>  19               </td><td>  19               </td><td>  19               </td><td>  19               </td><td>  19               </td><td>  19               </td><td>  19               </td><td>  19               </td><td>Antigua and Barbuda</td></tr>\n",
       "</tbody>\n",
       "</table>\n"
      ],
      "text/latex": [
       "\\begin{tabular}{r|llllllllllllllllllllllllllllllllllllllllllllllllllllllllllllllllllllllllllllllllllllllllllllllllllllllllllllllllllllllllll}\n",
       "  & Province.State & Country.Region & Lat & Long & X1.22.20 & X1.23.20 & X1.24.20 & X1.25.20 & X1.26.20 & X1.27.20 & ... & X5.9.20 & X5.10.20 & X5.11.20 & X5.12.20 & X5.13.20 & X5.14.20 & X5.15.20 & X5.16.20 & X5.17.20 & loc\\\\\n",
       "\\hline\n",
       "\tAfghanistan &                     & Afghanistan         &  33.0000            &  65.0000            & 0                   & 0                   & 0                   & 0                   & 0                   & 0                   & ...                 &  502                &  558                &  558                &  610                &  648                &  691                &  745                &  745                &  778                & Afghanistan        \\\\\n",
       "\tAlbania &                     & Albania             &  41.1533            &  20.1683            & 0                   & 0                   & 0                   & 0                   & 0                   & 0                   & ...                 &  627                &  650                &  654                &  682                &  688                &  694                &  705                &  714                &  715                & Albania            \\\\\n",
       "\tAlgeria &                     & Algeria             &  28.0339            &   1.6596            & 0                   & 0                   & 0                   & 0                   & 0                   & 0                   & ...                 & 2546                & 2678                & 2841                & 2998                & 3058                & 3158                & 3271                & 3409                & 3507                & Algeria            \\\\\n",
       "\tAndorra &                     & Andorra             &  42.5063            &   1.5218            & 0                   & 0                   & 0                   & 0                   & 0                   & 0                   & ...                 &  545                &  550                &  550                &  568                &  576                &  596                &  604                &  615                &  617                & Andorra            \\\\\n",
       "\tAngola &                     & Angola              & -11.2027            &  17.8739            & 0                   & 0                   & 0                   & 0                   & 0                   & 0                   & ...                 &   13                &   13                &   13                &   13                &   14                &   14                &   17                &   17                &   17                & Angola             \\\\\n",
       "\tAntigua and Barbuda &                     & Antigua and Barbuda &  17.0608            & -61.7964            & 0                   & 0                   & 0                   & 0                   & 0                   & 0                   & ...                 &   19                &   19                &   19                &   19                &   19                &   19                &   19                &   19                &   19                & Antigua and Barbuda\\\\\n",
       "\\end{tabular}\n"
      ],
      "text/markdown": [
       "\n",
       "| <!--/--> | Province.State | Country.Region | Lat | Long | X1.22.20 | X1.23.20 | X1.24.20 | X1.25.20 | X1.26.20 | X1.27.20 | ... | X5.9.20 | X5.10.20 | X5.11.20 | X5.12.20 | X5.13.20 | X5.14.20 | X5.15.20 | X5.16.20 | X5.17.20 | loc |\n",
       "|---|---|---|---|---|---|---|---|---|---|---|---|---|---|---|---|---|---|---|---|---|---|\n",
       "| Afghanistan |                     | Afghanistan         |  33.0000            |  65.0000            | 0                   | 0                   | 0                   | 0                   | 0                   | 0                   | ...                 |  502                |  558                |  558                |  610                |  648                |  691                |  745                |  745                |  778                | Afghanistan         |\n",
       "| Albania |                     | Albania             |  41.1533            |  20.1683            | 0                   | 0                   | 0                   | 0                   | 0                   | 0                   | ...                 |  627                |  650                |  654                |  682                |  688                |  694                |  705                |  714                |  715                | Albania             |\n",
       "| Algeria |                     | Algeria             |  28.0339            |   1.6596            | 0                   | 0                   | 0                   | 0                   | 0                   | 0                   | ...                 | 2546                | 2678                | 2841                | 2998                | 3058                | 3158                | 3271                | 3409                | 3507                | Algeria             |\n",
       "| Andorra |                     | Andorra             |  42.5063            |   1.5218            | 0                   | 0                   | 0                   | 0                   | 0                   | 0                   | ...                 |  545                |  550                |  550                |  568                |  576                |  596                |  604                |  615                |  617                | Andorra             |\n",
       "| Angola |                     | Angola              | -11.2027            |  17.8739            | 0                   | 0                   | 0                   | 0                   | 0                   | 0                   | ...                 |   13                |   13                |   13                |   13                |   14                |   14                |   17                |   17                |   17                | Angola              |\n",
       "| Antigua and Barbuda |                     | Antigua and Barbuda |  17.0608            | -61.7964            | 0                   | 0                   | 0                   | 0                   | 0                   | 0                   | ...                 |   19                |   19                |   19                |   19                |   19                |   19                |   19                |   19                |   19                | Antigua and Barbuda |\n",
       "\n"
      ],
      "text/plain": [
       "                    Province.State Country.Region      Lat      Long    \n",
       "Afghanistan                        Afghanistan          33.0000  65.0000\n",
       "Albania                            Albania              41.1533  20.1683\n",
       "Algeria                            Algeria              28.0339   1.6596\n",
       "Andorra                            Andorra              42.5063   1.5218\n",
       "Angola                             Angola              -11.2027  17.8739\n",
       "Antigua and Barbuda                Antigua and Barbuda  17.0608 -61.7964\n",
       "                    X1.22.20 X1.23.20 X1.24.20 X1.25.20 X1.26.20 X1.27.20 ...\n",
       "Afghanistan         0        0        0        0        0        0        ...\n",
       "Albania             0        0        0        0        0        0        ...\n",
       "Algeria             0        0        0        0        0        0        ...\n",
       "Andorra             0        0        0        0        0        0        ...\n",
       "Angola              0        0        0        0        0        0        ...\n",
       "Antigua and Barbuda 0        0        0        0        0        0        ...\n",
       "                    X5.9.20 X5.10.20 X5.11.20 X5.12.20 X5.13.20 X5.14.20\n",
       "Afghanistan          502     558      558      610      648      691    \n",
       "Albania              627     650      654      682      688      694    \n",
       "Algeria             2546    2678     2841     2998     3058     3158    \n",
       "Andorra              545     550      550      568      576      596    \n",
       "Angola                13      13       13       13       14       14    \n",
       "Antigua and Barbuda   19      19       19       19       19       19    \n",
       "                    X5.15.20 X5.16.20 X5.17.20 loc                \n",
       "Afghanistan          745      745      778     Afghanistan        \n",
       "Albania              705      714      715     Albania            \n",
       "Algeria             3271     3409     3507     Algeria            \n",
       "Andorra              604      615      617     Andorra            \n",
       "Angola                17       17       17     Angola             \n",
       "Antigua and Barbuda   19       19       19     Antigua and Barbuda"
      ]
     },
     "metadata": {},
     "output_type": "display_data"
    },
    {
     "data": {
      "text/html": [
       "<table>\n",
       "<thead><tr><th></th><th scope=col>Afghanistan</th><th scope=col>Albania</th><th scope=col>Algeria</th><th scope=col>Andorra</th><th scope=col>Angola</th><th scope=col>Antigua and Barbuda</th><th scope=col>Argentina</th><th scope=col>Armenia</th><th scope=col>AustraliaAustralian Capital Territory</th><th scope=col>AustraliaNew South Wales</th><th scope=col>...</th><th scope=col>Malawi</th><th scope=col>United KingdomFalkland Islands (Malvinas)</th><th scope=col>FranceSaint Pierre and Miquelon</th><th scope=col>South Sudan</th><th scope=col>Western Sahara</th><th scope=col>Sao Tome and Principe</th><th scope=col>Yemen</th><th scope=col>Comoros</th><th scope=col>Tajikistan</th><th scope=col>Lesotho</th></tr></thead>\n",
       "<tbody>\n",
       "\t<tr><th scope=row>X5.12.20</th><td>   610</td><td>   682</td><td>  2998</td><td>   568</td><td>    13</td><td>    19</td><td>  1862</td><td>  1430</td><td>   104</td><td>  2571</td><td>...   </td><td>    24</td><td>    13</td><td>     1</td><td>     2</td><td>     6</td><td>     4</td><td>     1</td><td>     0</td><td>     0</td><td>     0</td></tr>\n",
       "\t<tr><th scope=row>X5.13.20</th><td>   648</td><td>   688</td><td>  3058</td><td>   576</td><td>    14</td><td>    19</td><td>  2266</td><td>  1500</td><td>   104</td><td>  2595</td><td>...   </td><td>    24</td><td>    13</td><td>     1</td><td>     2</td><td>     6</td><td>     4</td><td>     1</td><td>     0</td><td>     0</td><td>     0</td></tr>\n",
       "\t<tr><th scope=row>X5.14.20</th><td>   691</td><td>   694</td><td>  3158</td><td>   596</td><td>    14</td><td>    19</td><td>  2385</td><td>  1572</td><td>   104</td><td>  2605</td><td>...   </td><td>    24</td><td>    13</td><td>     1</td><td>     3</td><td>     6</td><td>     4</td><td>     1</td><td>     3</td><td>     0</td><td>     0</td></tr>\n",
       "\t<tr><th scope=row>X5.15.20</th><td>   745</td><td>   705</td><td>  3271</td><td>   604</td><td>    17</td><td>    19</td><td>  2497</td><td>  1666</td><td>   104</td><td>  2611</td><td>...   </td><td>    24</td><td>    13</td><td>     1</td><td>     4</td><td>     6</td><td>     4</td><td>     1</td><td>     3</td><td>     0</td><td>     0</td></tr>\n",
       "\t<tr><th scope=row>X5.16.20</th><td>   745</td><td>   714</td><td>  3409</td><td>   615</td><td>    17</td><td>    19</td><td>  2534</td><td>  1791</td><td>   104</td><td>  2611</td><td>...   </td><td>    24</td><td>    13</td><td>     1</td><td>     4</td><td>     6</td><td>     4</td><td>     1</td><td>     3</td><td>     0</td><td>     0</td></tr>\n",
       "\t<tr><th scope=row>X5.17.20</th><td>   778</td><td>   715</td><td>  3507</td><td>   617</td><td>    17</td><td>    19</td><td>  2569</td><td>  1925</td><td>   104</td><td>  2612</td><td>...   </td><td>    27</td><td>    13</td><td>     1</td><td>     4</td><td>     6</td><td>     4</td><td>     1</td><td>     3</td><td>     0</td><td>     0</td></tr>\n",
       "</tbody>\n",
       "</table>\n"
      ],
      "text/latex": [
       "\\begin{tabular}{r|lllllllllllllllllllllllllllllllllllllllllllllllllllllllllllllllllllllllllllllllllllllllllllllllllllllllllllllllllllllllllllllllllllllllllllllllllllllllllllllllllllllllllllllllllllllllllllllllllllllllllllllllllllllllllllllllllllllllllllllllllllllllllllll}\n",
       "  & Afghanistan & Albania & Algeria & Andorra & Angola & Antigua and Barbuda & Argentina & Armenia & AustraliaAustralian Capital Territory & AustraliaNew South Wales & ... & Malawi & United KingdomFalkland Islands (Malvinas) & FranceSaint Pierre and Miquelon & South Sudan & Western Sahara & Sao Tome and Principe & Yemen & Comoros & Tajikistan & Lesotho\\\\\n",
       "\\hline\n",
       "\tX5.12.20 &    610 &    682 &   2998 &    568 &     13 &     19 &   1862 &   1430 &    104 &   2571 & ...    &     24 &     13 &      1 &      2 &      6 &      4 &      1 &      0 &      0 &      0\\\\\n",
       "\tX5.13.20 &    648 &    688 &   3058 &    576 &     14 &     19 &   2266 &   1500 &    104 &   2595 & ...    &     24 &     13 &      1 &      2 &      6 &      4 &      1 &      0 &      0 &      0\\\\\n",
       "\tX5.14.20 &    691 &    694 &   3158 &    596 &     14 &     19 &   2385 &   1572 &    104 &   2605 & ...    &     24 &     13 &      1 &      3 &      6 &      4 &      1 &      3 &      0 &      0\\\\\n",
       "\tX5.15.20 &    745 &    705 &   3271 &    604 &     17 &     19 &   2497 &   1666 &    104 &   2611 & ...    &     24 &     13 &      1 &      4 &      6 &      4 &      1 &      3 &      0 &      0\\\\\n",
       "\tX5.16.20 &    745 &    714 &   3409 &    615 &     17 &     19 &   2534 &   1791 &    104 &   2611 & ...    &     24 &     13 &      1 &      4 &      6 &      4 &      1 &      3 &      0 &      0\\\\\n",
       "\tX5.17.20 &    778 &    715 &   3507 &    617 &     17 &     19 &   2569 &   1925 &    104 &   2612 & ...    &     27 &     13 &      1 &      4 &      6 &      4 &      1 &      3 &      0 &      0\\\\\n",
       "\\end{tabular}\n"
      ],
      "text/markdown": [
       "\n",
       "| <!--/--> | Afghanistan | Albania | Algeria | Andorra | Angola | Antigua and Barbuda | Argentina | Armenia | AustraliaAustralian Capital Territory | AustraliaNew South Wales | ... | Malawi | United KingdomFalkland Islands (Malvinas) | FranceSaint Pierre and Miquelon | South Sudan | Western Sahara | Sao Tome and Principe | Yemen | Comoros | Tajikistan | Lesotho |\n",
       "|---|---|---|---|---|---|---|---|---|---|---|---|---|---|---|---|---|---|---|---|---|---|\n",
       "| X5.12.20 |    610 |    682 |   2998 |    568 |     13 |     19 |   1862 |   1430 |    104 |   2571 | ...    |     24 |     13 |      1 |      2 |      6 |      4 |      1 |      0 |      0 |      0 |\n",
       "| X5.13.20 |    648 |    688 |   3058 |    576 |     14 |     19 |   2266 |   1500 |    104 |   2595 | ...    |     24 |     13 |      1 |      2 |      6 |      4 |      1 |      0 |      0 |      0 |\n",
       "| X5.14.20 |    691 |    694 |   3158 |    596 |     14 |     19 |   2385 |   1572 |    104 |   2605 | ...    |     24 |     13 |      1 |      3 |      6 |      4 |      1 |      3 |      0 |      0 |\n",
       "| X5.15.20 |    745 |    705 |   3271 |    604 |     17 |     19 |   2497 |   1666 |    104 |   2611 | ...    |     24 |     13 |      1 |      4 |      6 |      4 |      1 |      3 |      0 |      0 |\n",
       "| X5.16.20 |    745 |    714 |   3409 |    615 |     17 |     19 |   2534 |   1791 |    104 |   2611 | ...    |     24 |     13 |      1 |      4 |      6 |      4 |      1 |      3 |      0 |      0 |\n",
       "| X5.17.20 |    778 |    715 |   3507 |    617 |     17 |     19 |   2569 |   1925 |    104 |   2612 | ...    |     27 |     13 |      1 |      4 |      6 |      4 |      1 |      3 |      0 |      0 |\n",
       "\n"
      ],
      "text/plain": [
       "         Afghanistan Albania Algeria Andorra Angola Antigua and Barbuda\n",
       "X5.12.20    610         682    2998     568      13     19             \n",
       "X5.13.20    648         688    3058     576      14     19             \n",
       "X5.14.20    691         694    3158     596      14     19             \n",
       "X5.15.20    745         705    3271     604      17     19             \n",
       "X5.16.20    745         714    3409     615      17     19             \n",
       "X5.17.20    778         715    3507     617      17     19             \n",
       "         Argentina Armenia AustraliaAustralian Capital Territory\n",
       "X5.12.20   1862      1430     104                               \n",
       "X5.13.20   2266      1500     104                               \n",
       "X5.14.20   2385      1572     104                               \n",
       "X5.15.20   2497      1666     104                               \n",
       "X5.16.20   2534      1791     104                               \n",
       "X5.17.20   2569      1925     104                               \n",
       "         AustraliaNew South Wales ... Malawi\n",
       "X5.12.20   2571                   ...     24\n",
       "X5.13.20   2595                   ...     24\n",
       "X5.14.20   2605                   ...     24\n",
       "X5.15.20   2611                   ...     24\n",
       "X5.16.20   2611                   ...     24\n",
       "X5.17.20   2612                   ...     27\n",
       "         United KingdomFalkland Islands (Malvinas)\n",
       "X5.12.20     13                                   \n",
       "X5.13.20     13                                   \n",
       "X5.14.20     13                                   \n",
       "X5.15.20     13                                   \n",
       "X5.16.20     13                                   \n",
       "X5.17.20     13                                   \n",
       "         FranceSaint Pierre and Miquelon South Sudan Western Sahara\n",
       "X5.12.20      1                               2           6        \n",
       "X5.13.20      1                               2           6        \n",
       "X5.14.20      1                               3           6        \n",
       "X5.15.20      1                               4           6        \n",
       "X5.16.20      1                               4           6        \n",
       "X5.17.20      1                               4           6        \n",
       "         Sao Tome and Principe Yemen  Comoros Tajikistan Lesotho\n",
       "X5.12.20      4                     1      0       0          0 \n",
       "X5.13.20      4                     1      0       0          0 \n",
       "X5.14.20      4                     1      3       0          0 \n",
       "X5.15.20      4                     1      3       0          0 \n",
       "X5.16.20      4                     1      3       0          0 \n",
       "X5.17.20      4                     1      3       0          0 "
      ]
     },
     "metadata": {},
     "output_type": "display_data"
    }
   ],
   "source": [
    "data3 <- read.csv(\"covid_time_series.csv\")\n",
    "data3$loc <- paste(data3$Country.Region,data3$Province.State, sep = \"\")\n",
    "rownames(data3) <- data3$loc\n",
    "head(data3)\n",
    "data3_t <- as.data.frame(t(as.matrix(data3)))\n",
    "data3_t <- data3_t[-c(1:4, nrow(data3_t)),]\n",
    "tail(data3_t)"
   ]
  },
  {
   "cell_type": "code",
   "execution_count": 41,
   "metadata": {},
   "outputs": [
    {
     "data": {
      "text/html": [
       "<ol class=list-inline>\n",
       "\t<li>'01.22.2020'</li>\n",
       "\t<li>'01.23.2020'</li>\n",
       "\t<li>'01.24.2020'</li>\n",
       "\t<li>'01.25.2020'</li>\n",
       "\t<li>'01.26.2020'</li>\n",
       "\t<li>'01.27.2020'</li>\n",
       "\t<li>'01.28.2020'</li>\n",
       "\t<li>'01.29.2020'</li>\n",
       "\t<li>'01.30.2020'</li>\n",
       "\t<li>'01.31.2020'</li>\n",
       "\t<li>'02.1.2020'</li>\n",
       "\t<li>'02.2.2020'</li>\n",
       "\t<li>'02.3.2020'</li>\n",
       "\t<li>'02.4.2020'</li>\n",
       "\t<li>'02.5.2020'</li>\n",
       "\t<li>'02.6.2020'</li>\n",
       "\t<li>'02.7.2020'</li>\n",
       "\t<li>'02.8.2020'</li>\n",
       "\t<li>'02.9.2020'</li>\n",
       "\t<li>'02.10.2020'</li>\n",
       "\t<li>'02.11.2020'</li>\n",
       "\t<li>'02.12.2020'</li>\n",
       "\t<li>'02.13.2020'</li>\n",
       "\t<li>'02.14.2020'</li>\n",
       "\t<li>'02.15.2020'</li>\n",
       "\t<li>'02.16.2020'</li>\n",
       "\t<li>'02.17.2020'</li>\n",
       "\t<li>'02.18.2020'</li>\n",
       "\t<li>'02.19.2020'</li>\n",
       "\t<li>'02.20.2020'</li>\n",
       "\t<li>'02.21.2020'</li>\n",
       "\t<li>'02.22.2020'</li>\n",
       "\t<li>'02.23.2020'</li>\n",
       "\t<li>'02.24.2020'</li>\n",
       "\t<li>'02.25.2020'</li>\n",
       "\t<li>'02.26.2020'</li>\n",
       "\t<li>'02.27.2020'</li>\n",
       "\t<li>'02.28.2020'</li>\n",
       "\t<li>'02.29.2020'</li>\n",
       "\t<li>'03.1.2020'</li>\n",
       "\t<li>'03.2.2020'</li>\n",
       "\t<li>'03.3.2020'</li>\n",
       "\t<li>'03.4.2020'</li>\n",
       "\t<li>'03.5.2020'</li>\n",
       "\t<li>'03.6.2020'</li>\n",
       "\t<li>'03.7.2020'</li>\n",
       "\t<li>'03.8.2020'</li>\n",
       "\t<li>'03.9.2020'</li>\n",
       "\t<li>'03.10.2020'</li>\n",
       "\t<li>'03.11.2020'</li>\n",
       "\t<li>'03.12.2020'</li>\n",
       "\t<li>'03.13.2020'</li>\n",
       "\t<li>'03.14.2020'</li>\n",
       "\t<li>'03.15.2020'</li>\n",
       "\t<li>'03.16.2020'</li>\n",
       "\t<li>'03.17.2020'</li>\n",
       "\t<li>'03.18.2020'</li>\n",
       "\t<li>'03.19.2020'</li>\n",
       "\t<li>'03.20.2020'</li>\n",
       "\t<li>'03.21.2020'</li>\n",
       "\t<li>'03.22.2020'</li>\n",
       "\t<li>'03.23.2020'</li>\n",
       "\t<li>'03.24.2020'</li>\n",
       "\t<li>'03.25.2020'</li>\n",
       "\t<li>'03.26.2020'</li>\n",
       "\t<li>'03.27.2020'</li>\n",
       "\t<li>'03.28.2020'</li>\n",
       "\t<li>'03.29.2020'</li>\n",
       "\t<li>'03.30.2020'</li>\n",
       "\t<li>'03.31.2020'</li>\n",
       "\t<li>'04.1.2020'</li>\n",
       "\t<li>'04.2.2020'</li>\n",
       "\t<li>'04.3.2020'</li>\n",
       "\t<li>'04.4.2020'</li>\n",
       "\t<li>'04.5.2020'</li>\n",
       "\t<li>'04.6.2020'</li>\n",
       "\t<li>'04.7.2020'</li>\n",
       "\t<li>'04.8.2020'</li>\n",
       "\t<li>'04.9.2020'</li>\n",
       "\t<li>'04.10.2020'</li>\n",
       "\t<li>'04.11.2020'</li>\n",
       "\t<li>'04.12.2020'</li>\n",
       "\t<li>'04.13.2020'</li>\n",
       "\t<li>'04.14.2020'</li>\n",
       "\t<li>'04.15.2020'</li>\n",
       "\t<li>'04.16.2020'</li>\n",
       "\t<li>'04.17.2020'</li>\n",
       "\t<li>'04.18.2020'</li>\n",
       "\t<li>'04.19.2020'</li>\n",
       "\t<li>'04.20.2020'</li>\n",
       "\t<li>'04.21.2020'</li>\n",
       "\t<li>'04.22.2020'</li>\n",
       "\t<li>'04.23.2020'</li>\n",
       "\t<li>'04.24.2020'</li>\n",
       "\t<li>'04.25.2020'</li>\n",
       "\t<li>'04.26.2020'</li>\n",
       "\t<li>'04.27.2020'</li>\n",
       "\t<li>'04.28.2020'</li>\n",
       "\t<li>'04.29.2020'</li>\n",
       "\t<li>'04.30.2020'</li>\n",
       "\t<li>'05.1.2020'</li>\n",
       "\t<li>'05.2.2020'</li>\n",
       "\t<li>'05.3.2020'</li>\n",
       "\t<li>'05.4.2020'</li>\n",
       "\t<li>'05.5.2020'</li>\n",
       "\t<li>'05.6.2020'</li>\n",
       "\t<li>'05.7.2020'</li>\n",
       "\t<li>'05.8.2020'</li>\n",
       "\t<li>'05.9.2020'</li>\n",
       "\t<li>'05.10.2020'</li>\n",
       "\t<li>'05.11.2020'</li>\n",
       "\t<li>'05.12.2020'</li>\n",
       "\t<li>'05.13.2020'</li>\n",
       "\t<li>'05.14.2020'</li>\n",
       "\t<li>'05.15.2020'</li>\n",
       "\t<li>'05.16.2020'</li>\n",
       "\t<li>'05.17.2020'</li>\n",
       "</ol>\n"
      ],
      "text/latex": [
       "\\begin{enumerate*}\n",
       "\\item '01.22.2020'\n",
       "\\item '01.23.2020'\n",
       "\\item '01.24.2020'\n",
       "\\item '01.25.2020'\n",
       "\\item '01.26.2020'\n",
       "\\item '01.27.2020'\n",
       "\\item '01.28.2020'\n",
       "\\item '01.29.2020'\n",
       "\\item '01.30.2020'\n",
       "\\item '01.31.2020'\n",
       "\\item '02.1.2020'\n",
       "\\item '02.2.2020'\n",
       "\\item '02.3.2020'\n",
       "\\item '02.4.2020'\n",
       "\\item '02.5.2020'\n",
       "\\item '02.6.2020'\n",
       "\\item '02.7.2020'\n",
       "\\item '02.8.2020'\n",
       "\\item '02.9.2020'\n",
       "\\item '02.10.2020'\n",
       "\\item '02.11.2020'\n",
       "\\item '02.12.2020'\n",
       "\\item '02.13.2020'\n",
       "\\item '02.14.2020'\n",
       "\\item '02.15.2020'\n",
       "\\item '02.16.2020'\n",
       "\\item '02.17.2020'\n",
       "\\item '02.18.2020'\n",
       "\\item '02.19.2020'\n",
       "\\item '02.20.2020'\n",
       "\\item '02.21.2020'\n",
       "\\item '02.22.2020'\n",
       "\\item '02.23.2020'\n",
       "\\item '02.24.2020'\n",
       "\\item '02.25.2020'\n",
       "\\item '02.26.2020'\n",
       "\\item '02.27.2020'\n",
       "\\item '02.28.2020'\n",
       "\\item '02.29.2020'\n",
       "\\item '03.1.2020'\n",
       "\\item '03.2.2020'\n",
       "\\item '03.3.2020'\n",
       "\\item '03.4.2020'\n",
       "\\item '03.5.2020'\n",
       "\\item '03.6.2020'\n",
       "\\item '03.7.2020'\n",
       "\\item '03.8.2020'\n",
       "\\item '03.9.2020'\n",
       "\\item '03.10.2020'\n",
       "\\item '03.11.2020'\n",
       "\\item '03.12.2020'\n",
       "\\item '03.13.2020'\n",
       "\\item '03.14.2020'\n",
       "\\item '03.15.2020'\n",
       "\\item '03.16.2020'\n",
       "\\item '03.17.2020'\n",
       "\\item '03.18.2020'\n",
       "\\item '03.19.2020'\n",
       "\\item '03.20.2020'\n",
       "\\item '03.21.2020'\n",
       "\\item '03.22.2020'\n",
       "\\item '03.23.2020'\n",
       "\\item '03.24.2020'\n",
       "\\item '03.25.2020'\n",
       "\\item '03.26.2020'\n",
       "\\item '03.27.2020'\n",
       "\\item '03.28.2020'\n",
       "\\item '03.29.2020'\n",
       "\\item '03.30.2020'\n",
       "\\item '03.31.2020'\n",
       "\\item '04.1.2020'\n",
       "\\item '04.2.2020'\n",
       "\\item '04.3.2020'\n",
       "\\item '04.4.2020'\n",
       "\\item '04.5.2020'\n",
       "\\item '04.6.2020'\n",
       "\\item '04.7.2020'\n",
       "\\item '04.8.2020'\n",
       "\\item '04.9.2020'\n",
       "\\item '04.10.2020'\n",
       "\\item '04.11.2020'\n",
       "\\item '04.12.2020'\n",
       "\\item '04.13.2020'\n",
       "\\item '04.14.2020'\n",
       "\\item '04.15.2020'\n",
       "\\item '04.16.2020'\n",
       "\\item '04.17.2020'\n",
       "\\item '04.18.2020'\n",
       "\\item '04.19.2020'\n",
       "\\item '04.20.2020'\n",
       "\\item '04.21.2020'\n",
       "\\item '04.22.2020'\n",
       "\\item '04.23.2020'\n",
       "\\item '04.24.2020'\n",
       "\\item '04.25.2020'\n",
       "\\item '04.26.2020'\n",
       "\\item '04.27.2020'\n",
       "\\item '04.28.2020'\n",
       "\\item '04.29.2020'\n",
       "\\item '04.30.2020'\n",
       "\\item '05.1.2020'\n",
       "\\item '05.2.2020'\n",
       "\\item '05.3.2020'\n",
       "\\item '05.4.2020'\n",
       "\\item '05.5.2020'\n",
       "\\item '05.6.2020'\n",
       "\\item '05.7.2020'\n",
       "\\item '05.8.2020'\n",
       "\\item '05.9.2020'\n",
       "\\item '05.10.2020'\n",
       "\\item '05.11.2020'\n",
       "\\item '05.12.2020'\n",
       "\\item '05.13.2020'\n",
       "\\item '05.14.2020'\n",
       "\\item '05.15.2020'\n",
       "\\item '05.16.2020'\n",
       "\\item '05.17.2020'\n",
       "\\end{enumerate*}\n"
      ],
      "text/markdown": [
       "1. '01.22.2020'\n",
       "2. '01.23.2020'\n",
       "3. '01.24.2020'\n",
       "4. '01.25.2020'\n",
       "5. '01.26.2020'\n",
       "6. '01.27.2020'\n",
       "7. '01.28.2020'\n",
       "8. '01.29.2020'\n",
       "9. '01.30.2020'\n",
       "10. '01.31.2020'\n",
       "11. '02.1.2020'\n",
       "12. '02.2.2020'\n",
       "13. '02.3.2020'\n",
       "14. '02.4.2020'\n",
       "15. '02.5.2020'\n",
       "16. '02.6.2020'\n",
       "17. '02.7.2020'\n",
       "18. '02.8.2020'\n",
       "19. '02.9.2020'\n",
       "20. '02.10.2020'\n",
       "21. '02.11.2020'\n",
       "22. '02.12.2020'\n",
       "23. '02.13.2020'\n",
       "24. '02.14.2020'\n",
       "25. '02.15.2020'\n",
       "26. '02.16.2020'\n",
       "27. '02.17.2020'\n",
       "28. '02.18.2020'\n",
       "29. '02.19.2020'\n",
       "30. '02.20.2020'\n",
       "31. '02.21.2020'\n",
       "32. '02.22.2020'\n",
       "33. '02.23.2020'\n",
       "34. '02.24.2020'\n",
       "35. '02.25.2020'\n",
       "36. '02.26.2020'\n",
       "37. '02.27.2020'\n",
       "38. '02.28.2020'\n",
       "39. '02.29.2020'\n",
       "40. '03.1.2020'\n",
       "41. '03.2.2020'\n",
       "42. '03.3.2020'\n",
       "43. '03.4.2020'\n",
       "44. '03.5.2020'\n",
       "45. '03.6.2020'\n",
       "46. '03.7.2020'\n",
       "47. '03.8.2020'\n",
       "48. '03.9.2020'\n",
       "49. '03.10.2020'\n",
       "50. '03.11.2020'\n",
       "51. '03.12.2020'\n",
       "52. '03.13.2020'\n",
       "53. '03.14.2020'\n",
       "54. '03.15.2020'\n",
       "55. '03.16.2020'\n",
       "56. '03.17.2020'\n",
       "57. '03.18.2020'\n",
       "58. '03.19.2020'\n",
       "59. '03.20.2020'\n",
       "60. '03.21.2020'\n",
       "61. '03.22.2020'\n",
       "62. '03.23.2020'\n",
       "63. '03.24.2020'\n",
       "64. '03.25.2020'\n",
       "65. '03.26.2020'\n",
       "66. '03.27.2020'\n",
       "67. '03.28.2020'\n",
       "68. '03.29.2020'\n",
       "69. '03.30.2020'\n",
       "70. '03.31.2020'\n",
       "71. '04.1.2020'\n",
       "72. '04.2.2020'\n",
       "73. '04.3.2020'\n",
       "74. '04.4.2020'\n",
       "75. '04.5.2020'\n",
       "76. '04.6.2020'\n",
       "77. '04.7.2020'\n",
       "78. '04.8.2020'\n",
       "79. '04.9.2020'\n",
       "80. '04.10.2020'\n",
       "81. '04.11.2020'\n",
       "82. '04.12.2020'\n",
       "83. '04.13.2020'\n",
       "84. '04.14.2020'\n",
       "85. '04.15.2020'\n",
       "86. '04.16.2020'\n",
       "87. '04.17.2020'\n",
       "88. '04.18.2020'\n",
       "89. '04.19.2020'\n",
       "90. '04.20.2020'\n",
       "91. '04.21.2020'\n",
       "92. '04.22.2020'\n",
       "93. '04.23.2020'\n",
       "94. '04.24.2020'\n",
       "95. '04.25.2020'\n",
       "96. '04.26.2020'\n",
       "97. '04.27.2020'\n",
       "98. '04.28.2020'\n",
       "99. '04.29.2020'\n",
       "100. '04.30.2020'\n",
       "101. '05.1.2020'\n",
       "102. '05.2.2020'\n",
       "103. '05.3.2020'\n",
       "104. '05.4.2020'\n",
       "105. '05.5.2020'\n",
       "106. '05.6.2020'\n",
       "107. '05.7.2020'\n",
       "108. '05.8.2020'\n",
       "109. '05.9.2020'\n",
       "110. '05.10.2020'\n",
       "111. '05.11.2020'\n",
       "112. '05.12.2020'\n",
       "113. '05.13.2020'\n",
       "114. '05.14.2020'\n",
       "115. '05.15.2020'\n",
       "116. '05.16.2020'\n",
       "117. '05.17.2020'\n",
       "\n",
       "\n"
      ],
      "text/plain": [
       "  [1] \"01.22.2020\" \"01.23.2020\" \"01.24.2020\" \"01.25.2020\" \"01.26.2020\"\n",
       "  [6] \"01.27.2020\" \"01.28.2020\" \"01.29.2020\" \"01.30.2020\" \"01.31.2020\"\n",
       " [11] \"02.1.2020\"  \"02.2.2020\"  \"02.3.2020\"  \"02.4.2020\"  \"02.5.2020\" \n",
       " [16] \"02.6.2020\"  \"02.7.2020\"  \"02.8.2020\"  \"02.9.2020\"  \"02.10.2020\"\n",
       " [21] \"02.11.2020\" \"02.12.2020\" \"02.13.2020\" \"02.14.2020\" \"02.15.2020\"\n",
       " [26] \"02.16.2020\" \"02.17.2020\" \"02.18.2020\" \"02.19.2020\" \"02.20.2020\"\n",
       " [31] \"02.21.2020\" \"02.22.2020\" \"02.23.2020\" \"02.24.2020\" \"02.25.2020\"\n",
       " [36] \"02.26.2020\" \"02.27.2020\" \"02.28.2020\" \"02.29.2020\" \"03.1.2020\" \n",
       " [41] \"03.2.2020\"  \"03.3.2020\"  \"03.4.2020\"  \"03.5.2020\"  \"03.6.2020\" \n",
       " [46] \"03.7.2020\"  \"03.8.2020\"  \"03.9.2020\"  \"03.10.2020\" \"03.11.2020\"\n",
       " [51] \"03.12.2020\" \"03.13.2020\" \"03.14.2020\" \"03.15.2020\" \"03.16.2020\"\n",
       " [56] \"03.17.2020\" \"03.18.2020\" \"03.19.2020\" \"03.20.2020\" \"03.21.2020\"\n",
       " [61] \"03.22.2020\" \"03.23.2020\" \"03.24.2020\" \"03.25.2020\" \"03.26.2020\"\n",
       " [66] \"03.27.2020\" \"03.28.2020\" \"03.29.2020\" \"03.30.2020\" \"03.31.2020\"\n",
       " [71] \"04.1.2020\"  \"04.2.2020\"  \"04.3.2020\"  \"04.4.2020\"  \"04.5.2020\" \n",
       " [76] \"04.6.2020\"  \"04.7.2020\"  \"04.8.2020\"  \"04.9.2020\"  \"04.10.2020\"\n",
       " [81] \"04.11.2020\" \"04.12.2020\" \"04.13.2020\" \"04.14.2020\" \"04.15.2020\"\n",
       " [86] \"04.16.2020\" \"04.17.2020\" \"04.18.2020\" \"04.19.2020\" \"04.20.2020\"\n",
       " [91] \"04.21.2020\" \"04.22.2020\" \"04.23.2020\" \"04.24.2020\" \"04.25.2020\"\n",
       " [96] \"04.26.2020\" \"04.27.2020\" \"04.28.2020\" \"04.29.2020\" \"04.30.2020\"\n",
       "[101] \"05.1.2020\"  \"05.2.2020\"  \"05.3.2020\"  \"05.4.2020\"  \"05.5.2020\" \n",
       "[106] \"05.6.2020\"  \"05.7.2020\"  \"05.8.2020\"  \"05.9.2020\"  \"05.10.2020\"\n",
       "[111] \"05.11.2020\" \"05.12.2020\" \"05.13.2020\" \"05.14.2020\" \"05.15.2020\"\n",
       "[116] \"05.16.2020\" \"05.17.2020\""
      ]
     },
     "metadata": {},
     "output_type": "display_data"
    }
   ],
   "source": [
    "rownames(data3_t) <- gsub(\"X\", \"0\",rownames(data3_t))\n",
    "rownames(data3_t) <- paste(rownames(data3_t),\"20\")\n",
    "rownames(data3_t) <- gsub(\" \", \"\",rownames(data3_t))\n",
    "rownames(data3_t)"
   ]
  },
  {
   "cell_type": "code",
   "execution_count": 42,
   "metadata": {},
   "outputs": [
    {
     "data": {
      "text/html": [
       "<table>\n",
       "<thead><tr><th scope=col>date</th><th scope=col>Afghanistan</th><th scope=col>Albania</th><th scope=col>Algeria</th><th scope=col>Andorra</th><th scope=col>Angola</th><th scope=col>Antigua and Barbuda</th><th scope=col>Argentina</th><th scope=col>Armenia</th><th scope=col>AustraliaAustralian Capital Territory</th><th scope=col>...</th><th scope=col>Malawi</th><th scope=col>United KingdomFalkland Islands (Malvinas)</th><th scope=col>FranceSaint Pierre and Miquelon</th><th scope=col>South Sudan</th><th scope=col>Western Sahara</th><th scope=col>Sao Tome and Principe</th><th scope=col>Yemen</th><th scope=col>Comoros</th><th scope=col>Tajikistan</th><th scope=col>Lesotho</th></tr></thead>\n",
       "<tbody>\n",
       "\t<tr><td>2020-01-22</td><td>0         </td><td>0         </td><td>0         </td><td>0         </td><td>0         </td><td>0         </td><td>0         </td><td>0         </td><td>0         </td><td>...       </td><td>0         </td><td>0         </td><td>0         </td><td>0         </td><td>0         </td><td>0         </td><td>0         </td><td>0         </td><td>0         </td><td>0         </td></tr>\n",
       "\t<tr><td>2020-01-23</td><td>0         </td><td>0         </td><td>0         </td><td>0         </td><td>0         </td><td>0         </td><td>0         </td><td>0         </td><td>0         </td><td>...       </td><td>0         </td><td>0         </td><td>0         </td><td>0         </td><td>0         </td><td>0         </td><td>0         </td><td>0         </td><td>0         </td><td>0         </td></tr>\n",
       "\t<tr><td>2020-01-24</td><td>0         </td><td>0         </td><td>0         </td><td>0         </td><td>0         </td><td>0         </td><td>0         </td><td>0         </td><td>0         </td><td>...       </td><td>0         </td><td>0         </td><td>0         </td><td>0         </td><td>0         </td><td>0         </td><td>0         </td><td>0         </td><td>0         </td><td>0         </td></tr>\n",
       "\t<tr><td>2020-01-25</td><td>0         </td><td>0         </td><td>0         </td><td>0         </td><td>0         </td><td>0         </td><td>0         </td><td>0         </td><td>0         </td><td>...       </td><td>0         </td><td>0         </td><td>0         </td><td>0         </td><td>0         </td><td>0         </td><td>0         </td><td>0         </td><td>0         </td><td>0         </td></tr>\n",
       "\t<tr><td>2020-01-26</td><td>0         </td><td>0         </td><td>0         </td><td>0         </td><td>0         </td><td>0         </td><td>0         </td><td>0         </td><td>0         </td><td>...       </td><td>0         </td><td>0         </td><td>0         </td><td>0         </td><td>0         </td><td>0         </td><td>0         </td><td>0         </td><td>0         </td><td>0         </td></tr>\n",
       "\t<tr><td>2020-01-27</td><td>0         </td><td>0         </td><td>0         </td><td>0         </td><td>0         </td><td>0         </td><td>0         </td><td>0         </td><td>0         </td><td>...       </td><td>0         </td><td>0         </td><td>0         </td><td>0         </td><td>0         </td><td>0         </td><td>0         </td><td>0         </td><td>0         </td><td>0         </td></tr>\n",
       "</tbody>\n",
       "</table>\n"
      ],
      "text/latex": [
       "\\begin{tabular}{r|llllllllllllllllllllllllllllllllllllllllllllllllllllllllllllllllllllllllllllllllllllllllllllllllllllllllllllllllllllllllllllllllllllllllllllllllllllllllllllllllllllllllllllllllllllllllllllllllllllllllllllllllllllllllllllllllllllllllllllllllllllllllllllll}\n",
       " date & Afghanistan & Albania & Algeria & Andorra & Angola & Antigua and Barbuda & Argentina & Armenia & AustraliaAustralian Capital Territory & ... & Malawi & United KingdomFalkland Islands (Malvinas) & FranceSaint Pierre and Miquelon & South Sudan & Western Sahara & Sao Tome and Principe & Yemen & Comoros & Tajikistan & Lesotho\\\\\n",
       "\\hline\n",
       "\t 2020-01-22 & 0          & 0          & 0          & 0          & 0          & 0          & 0          & 0          & 0          & ...        & 0          & 0          & 0          & 0          & 0          & 0          & 0          & 0          & 0          & 0         \\\\\n",
       "\t 2020-01-23 & 0          & 0          & 0          & 0          & 0          & 0          & 0          & 0          & 0          & ...        & 0          & 0          & 0          & 0          & 0          & 0          & 0          & 0          & 0          & 0         \\\\\n",
       "\t 2020-01-24 & 0          & 0          & 0          & 0          & 0          & 0          & 0          & 0          & 0          & ...        & 0          & 0          & 0          & 0          & 0          & 0          & 0          & 0          & 0          & 0         \\\\\n",
       "\t 2020-01-25 & 0          & 0          & 0          & 0          & 0          & 0          & 0          & 0          & 0          & ...        & 0          & 0          & 0          & 0          & 0          & 0          & 0          & 0          & 0          & 0         \\\\\n",
       "\t 2020-01-26 & 0          & 0          & 0          & 0          & 0          & 0          & 0          & 0          & 0          & ...        & 0          & 0          & 0          & 0          & 0          & 0          & 0          & 0          & 0          & 0         \\\\\n",
       "\t 2020-01-27 & 0          & 0          & 0          & 0          & 0          & 0          & 0          & 0          & 0          & ...        & 0          & 0          & 0          & 0          & 0          & 0          & 0          & 0          & 0          & 0         \\\\\n",
       "\\end{tabular}\n"
      ],
      "text/markdown": [
       "\n",
       "| date | Afghanistan | Albania | Algeria | Andorra | Angola | Antigua and Barbuda | Argentina | Armenia | AustraliaAustralian Capital Territory | ... | Malawi | United KingdomFalkland Islands (Malvinas) | FranceSaint Pierre and Miquelon | South Sudan | Western Sahara | Sao Tome and Principe | Yemen | Comoros | Tajikistan | Lesotho |\n",
       "|---|---|---|---|---|---|---|---|---|---|---|---|---|---|---|---|---|---|---|---|---|\n",
       "| 2020-01-22 | 0          | 0          | 0          | 0          | 0          | 0          | 0          | 0          | 0          | ...        | 0          | 0          | 0          | 0          | 0          | 0          | 0          | 0          | 0          | 0          |\n",
       "| 2020-01-23 | 0          | 0          | 0          | 0          | 0          | 0          | 0          | 0          | 0          | ...        | 0          | 0          | 0          | 0          | 0          | 0          | 0          | 0          | 0          | 0          |\n",
       "| 2020-01-24 | 0          | 0          | 0          | 0          | 0          | 0          | 0          | 0          | 0          | ...        | 0          | 0          | 0          | 0          | 0          | 0          | 0          | 0          | 0          | 0          |\n",
       "| 2020-01-25 | 0          | 0          | 0          | 0          | 0          | 0          | 0          | 0          | 0          | ...        | 0          | 0          | 0          | 0          | 0          | 0          | 0          | 0          | 0          | 0          |\n",
       "| 2020-01-26 | 0          | 0          | 0          | 0          | 0          | 0          | 0          | 0          | 0          | ...        | 0          | 0          | 0          | 0          | 0          | 0          | 0          | 0          | 0          | 0          |\n",
       "| 2020-01-27 | 0          | 0          | 0          | 0          | 0          | 0          | 0          | 0          | 0          | ...        | 0          | 0          | 0          | 0          | 0          | 0          | 0          | 0          | 0          | 0          |\n",
       "\n"
      ],
      "text/plain": [
       "  date       Afghanistan Albania Algeria Andorra Angola Antigua and Barbuda\n",
       "1 2020-01-22 0           0       0       0       0      0                  \n",
       "2 2020-01-23 0           0       0       0       0      0                  \n",
       "3 2020-01-24 0           0       0       0       0      0                  \n",
       "4 2020-01-25 0           0       0       0       0      0                  \n",
       "5 2020-01-26 0           0       0       0       0      0                  \n",
       "6 2020-01-27 0           0       0       0       0      0                  \n",
       "  Argentina Armenia AustraliaAustralian Capital Territory ... Malawi\n",
       "1 0         0       0                                     ... 0     \n",
       "2 0         0       0                                     ... 0     \n",
       "3 0         0       0                                     ... 0     \n",
       "4 0         0       0                                     ... 0     \n",
       "5 0         0       0                                     ... 0     \n",
       "6 0         0       0                                     ... 0     \n",
       "  United KingdomFalkland Islands (Malvinas) FranceSaint Pierre and Miquelon\n",
       "1 0                                         0                              \n",
       "2 0                                         0                              \n",
       "3 0                                         0                              \n",
       "4 0                                         0                              \n",
       "5 0                                         0                              \n",
       "6 0                                         0                              \n",
       "  South Sudan Western Sahara Sao Tome and Principe Yemen Comoros Tajikistan\n",
       "1 0           0              0                     0     0       0         \n",
       "2 0           0              0                     0     0       0         \n",
       "3 0           0              0                     0     0       0         \n",
       "4 0           0              0                     0     0       0         \n",
       "5 0           0              0                     0     0       0         \n",
       "6 0           0              0                     0     0       0         \n",
       "  Lesotho\n",
       "1 0      \n",
       "2 0      \n",
       "3 0      \n",
       "4 0      \n",
       "5 0      \n",
       "6 0      "
      ]
     },
     "metadata": {},
     "output_type": "display_data"
    }
   ],
   "source": [
    "rownames(data3_t) <- as.Date(rownames(data3_t), \"%m.%d.%Y\")\n",
    "\n",
    "indx <- sapply(data3_t, is.factor)\n",
    "data3_t[indx] <- lapply(data3_t[indx], function(x) as.numeric(as.character(x)))\n",
    "data3_t <- cbind(date = rownames(data3_t), data3_t)\n",
    "rownames(data3_t) <- NULL\n",
    "data3_t$date <- as.Date(data3_t$date)\n",
    "head(data3_t)"
   ]
  },
  {
   "cell_type": "code",
   "execution_count": 43,
   "metadata": {},
   "outputs": [
    {
     "data": {
      "image/png": "[encoded data removed]",
      "text/plain": [
       "plot without title"
      ]
     },
     "metadata": {},
     "output_type": "display_data"
    }
   ],
   "source": [
    "ggplot(data3_t, aes(date)) + \n",
    "  geom_line(aes(y = Singapore, colour = \"Singapore\"), size = 1) + \n",
    "  geom_line(aes(y = Malaysia, colour = \"Malaysia\"), size = 1)+\n",
    "    theme(panel.border = element_rect(colour = \"black\", fill=NA, size=1),\n",
    "    panel.background = element_blank(),\n",
    "    legend.title = element_blank())+\n",
    "  labs(title = \"Accumulated number of COVID-19 patients in \\nSingapore and Malaysia\",\n",
    "       x = \"Date\",\n",
    "       y = \"Total number of patients\")+\n",
    "  theme(\n",
    "  axis.title.x = element_text(size = 14),\n",
    "  axis.text.x = element_text(size = 12),\n",
    "  axis.text.y = element_text(size = 12),\n",
    "  axis.title.y = element_text(size = 14))"
   ]
  },
  {
   "cell_type": "code",
   "execution_count": 44,
   "metadata": {},
   "outputs": [],
   "source": [
    "uni_grad <- read.csv(\"uni_intake.csv\")"
   ]
  },
  {
   "cell_type": "code",
   "execution_count": 45,
   "metadata": {},
   "outputs": [
    {
     "data": {
      "text/html": [
       "<table>\n",
       "<thead><tr><th scope=col>Date</th><th scope=col>Number.of.accountancy.m.ale.graduates</th></tr></thead>\n",
       "<tbody>\n",
       "\t<tr><td>2005</td><td>706 </td></tr>\n",
       "\t<tr><td>2006</td><td>644 </td></tr>\n",
       "\t<tr><td>2007</td><td>834 </td></tr>\n",
       "\t<tr><td>2008</td><td>831 </td></tr>\n",
       "\t<tr><td>2009</td><td>937 </td></tr>\n",
       "\t<tr><td>2010</td><td>933 </td></tr>\n",
       "</tbody>\n",
       "</table>\n"
      ],
      "text/latex": [
       "\\begin{tabular}{r|ll}\n",
       " Date & Number.of.accountancy.m.ale.graduates\\\\\n",
       "\\hline\n",
       "\t 2005 & 706 \\\\\n",
       "\t 2006 & 644 \\\\\n",
       "\t 2007 & 834 \\\\\n",
       "\t 2008 & 831 \\\\\n",
       "\t 2009 & 937 \\\\\n",
       "\t 2010 & 933 \\\\\n",
       "\\end{tabular}\n"
      ],
      "text/markdown": [
       "\n",
       "| Date | Number.of.accountancy.m.ale.graduates |\n",
       "|---|---|\n",
       "| 2005 | 706  |\n",
       "| 2006 | 644  |\n",
       "| 2007 | 834  |\n",
       "| 2008 | 831  |\n",
       "| 2009 | 937  |\n",
       "| 2010 | 933  |\n",
       "\n"
      ],
      "text/plain": [
       "  Date Number.of.accountancy.m.ale.graduates\n",
       "1 2005 706                                  \n",
       "2 2006 644                                  \n",
       "3 2007 834                                  \n",
       "4 2008 831                                  \n",
       "5 2009 937                                  \n",
       "6 2010 933                                  "
      ]
     },
     "metadata": {},
     "output_type": "display_data"
    },
    {
     "name": "stderr",
     "output_type": "stream",
     "text": [
      "Warning message in eval(expr, envir, enclos):\n",
      "\"NAs introduced by coercion\""
     ]
    },
    {
     "data": {
      "text/html": [
       "<table>\n",
       "<thead><tr><th scope=col>Date</th><th scope=col>Number.of.accountancy.m.ale.graduates</th></tr></thead>\n",
       "<tbody>\n",
       "\t<tr><td>2005</td><td>706 </td></tr>\n",
       "\t<tr><td>2006</td><td>644 </td></tr>\n",
       "\t<tr><td>2007</td><td>834 </td></tr>\n",
       "\t<tr><td>2008</td><td>831 </td></tr>\n",
       "\t<tr><td>2009</td><td>937 </td></tr>\n",
       "\t<tr><td>2010</td><td>933 </td></tr>\n",
       "</tbody>\n",
       "</table>\n"
      ],
      "text/latex": [
       "\\begin{tabular}{r|ll}\n",
       " Date & Number.of.accountancy.m.ale.graduates\\\\\n",
       "\\hline\n",
       "\t 2005 & 706 \\\\\n",
       "\t 2006 & 644 \\\\\n",
       "\t 2007 & 834 \\\\\n",
       "\t 2008 & 831 \\\\\n",
       "\t 2009 & 937 \\\\\n",
       "\t 2010 & 933 \\\\\n",
       "\\end{tabular}\n"
      ],
      "text/markdown": [
       "\n",
       "| Date | Number.of.accountancy.m.ale.graduates |\n",
       "|---|---|\n",
       "| 2005 | 706  |\n",
       "| 2006 | 644  |\n",
       "| 2007 | 834  |\n",
       "| 2008 | 831  |\n",
       "| 2009 | 937  |\n",
       "| 2010 | 933  |\n",
       "\n"
      ],
      "text/plain": [
       "  Date Number.of.accountancy.m.ale.graduates\n",
       "1 2005 706                                  \n",
       "2 2006 644                                  \n",
       "3 2007 834                                  \n",
       "4 2008 831                                  \n",
       "5 2009 937                                  \n",
       "6 2010 933                                  "
      ]
     },
     "metadata": {},
     "output_type": "display_data"
    }
   ],
   "source": [
    "head(uni_grad)\n",
    "uni_grad$Number.of.accountancy.m.ale.graduates <- as.numeric(as.character(uni_grad$Number.of.accountancy.m.ale.graduates))\n",
    "head(uni_grad)"
   ]
  },
  {
   "cell_type": "code",
   "execution_count": 46,
   "metadata": {},
   "outputs": [
    {
     "name": "stderr",
     "output_type": "stream",
     "text": [
      "Warning message:\n",
      "\"Removed 1 row(s) containing missing values (geom_path).\""
     ]
    },
    {
     "data": {
      "image/png": "[encoded data removed]",
      "text/plain": [
       "plot without title"
      ]
     },
     "metadata": {},
     "output_type": "display_data"
    }
   ],
   "source": [
    "ggplot(data = uni_grad, aes(Date))+\n",
    "  geom_line(aes(y = Number.of.accountancy.m.ale.graduates), \n",
    "            size = 1.5,\n",
    "            color = \"#D55E00\")+\n",
    "  theme(panel.border = element_rect(colour = \"black\", fill=NA, size=1),\n",
    "    panel.background = element_blank(),\n",
    "    legend.title = element_blank())+\n",
    "  labs(title = \"Number of graduated male accountancy students from \\nSingapore universities\",\n",
    "       x = \"Date\",\n",
    "       y = \"Total number of graduates\")+\n",
    "  theme(\n",
    "  axis.title.x = element_text(size = 14),\n",
    "  axis.text.x = element_text(size = 12),\n",
    "  axis.text.y = element_text(size = 12),\n",
    "  axis.title.y = element_text(size = 14))"
   ]
  },
  {
   "cell_type": "code",
   "execution_count": 47,
   "metadata": {},
   "outputs": [
    {
     "data": {
      "text/html": [
       "<table>\n",
       "<thead><tr><th scope=col>Uni</th><th scope=col>Emp_rate</th></tr></thead>\n",
       "<tbody>\n",
       "\t<tr><td>NTU  </td><td>87.65</td></tr>\n",
       "\t<tr><td>NUS  </td><td>91.05</td></tr>\n",
       "\t<tr><td>SIT  </td><td>91.45</td></tr>\n",
       "\t<tr><td>SMU  </td><td>94.77</td></tr>\n",
       "\t<tr><td>SUTD </td><td>91.03</td></tr>\n",
       "</tbody>\n",
       "</table>\n"
      ],
      "text/latex": [
       "\\begin{tabular}{r|ll}\n",
       " Uni & Emp\\_rate\\\\\n",
       "\\hline\n",
       "\t NTU   & 87.65\\\\\n",
       "\t NUS   & 91.05\\\\\n",
       "\t SIT   & 91.45\\\\\n",
       "\t SMU   & 94.77\\\\\n",
       "\t SUTD  & 91.03\\\\\n",
       "\\end{tabular}\n"
      ],
      "text/markdown": [
       "\n",
       "| Uni | Emp_rate |\n",
       "|---|---|\n",
       "| NTU   | 87.65 |\n",
       "| NUS   | 91.05 |\n",
       "| SIT   | 91.45 |\n",
       "| SMU   | 94.77 |\n",
       "| SUTD  | 91.03 |\n",
       "\n"
      ],
      "text/plain": [
       "  Uni  Emp_rate\n",
       "1 NTU  87.65   \n",
       "2 NUS  91.05   \n",
       "3 SIT  91.45   \n",
       "4 SMU  94.77   \n",
       "5 SUTD 91.03   "
      ]
     },
     "metadata": {},
     "output_type": "display_data"
    }
   ],
   "source": [
    "Emp_rate <- c(87.65, 91.05, 91.45, 94.77, 91.03)\n",
    "Uni <- c(\"NTU\", \"NUS\", \"SIT\", \"SMU\", \"SUTD\")\n",
    "Emp_data <- as.data.frame(cbind(Uni, Emp_rate)) \n",
    "Emp_data$Emp_rate <- as.numeric(as.character(Emp_data$Emp_rate))\n",
    "Emp_data"
   ]
  },
  {
   "cell_type": "code",
   "execution_count": 48,
   "metadata": {},
   "outputs": [
    {
     "data": {
      "image/png": "[encoded data removed]",
      "text/plain": [
       "plot without title"
      ]
     },
     "metadata": {},
     "output_type": "display_data"
    }
   ],
   "source": [
    "Emp_data %>%\n",
    "  ggplot(aes(x=Uni, y=Emp_rate)) + \n",
    "  geom_bar(stat=\"identity\", color=\"black\",\n",
    "        fill=\"#D55E00\",\n",
    "        alpha = 0.5)+\n",
    "  theme(panel.border = element_rect(colour = \"black\", fill=NA, size=1),\n",
    "    panel.background = element_blank(),\n",
    "    legend.title = element_blank())+\n",
    "  labs(title = \"Overal employement rate\",\n",
    "       x = \"University\",\n",
    "       y = \"\")+\n",
    "  geom_text(aes(label=Emp_rate), vjust=1.6, color=\"black\", size=6)+\n",
    "  theme(\n",
    "  axis.title.x = element_text(size = 14),\n",
    "  axis.text.x = element_text(size = 16),\n",
    "  axis.text.y = element_text(size = 12),\n",
    "  axis.title.y = element_text(size = 14))"
   ]
  },
  {
   "cell_type": "code",
   "execution_count": 49,
   "metadata": {},
   "outputs": [
    {
     "data": {
      "image/png": "[encoded data removed]",
      "text/plain": [
       "plot without title"
      ]
     },
     "metadata": {},
     "output_type": "display_data"
    }
   ],
   "source": [
    "Emp_data %>%\n",
    "  ggplot(aes(x=Uni, y=Emp_rate)) + \n",
    "  geom_bar(stat=\"identity\", color=\"black\",\n",
    "        fill=\"#D55E00\",\n",
    "        alpha = 0.5)+\n",
    "  theme(panel.border = element_rect(colour = \"black\", fill=NA, size=1),\n",
    "    panel.background = element_blank(),\n",
    "    legend.title = element_blank())+\n",
    "  labs(title = \"Overal employement rate\",\n",
    "       x = \"University\",\n",
    "       y = \"\")+\n",
    "  coord_cartesian(ylim=c(85,95))+\n",
    "  geom_text(aes(label=Emp_rate), vjust=1.6, color=\"black\", size=6)+\n",
    "  theme(\n",
    "  axis.title.x = element_text(size = 14),\n",
    "  axis.text.x = element_text(size = 16),\n",
    "  axis.text.y = element_text(size = 12),\n",
    "  axis.title.y = element_text(size = 14))"
   ]
  },
  {
   "cell_type": "code",
   "execution_count": 50,
   "metadata": {},
   "outputs": [
    {
     "name": "stderr",
     "output_type": "stream",
     "text": [
      "Warning message:\n",
      "\"Ignoring unknown parameters: stat\""
     ]
    },
    {
     "data": {
      "image/png": "[encoded data removed]",
      "text/plain": [
       "plot without title"
      ]
     },
     "metadata": {},
     "output_type": "display_data"
    }
   ],
   "source": [
    "Emp_data %>%\n",
    "  ggplot(aes(x=Uni, y=Emp_rate)) + \n",
    "  geom_col(stat=\"identity\", color=\"black\",\n",
    "        fill=\"#D55E00\",\n",
    "        alpha = 0.5)+\n",
    "  theme(panel.border = element_rect(colour = \"black\", fill=NA, size=1),\n",
    "    panel.background = element_blank(),\n",
    "    legend.title = element_blank())+\n",
    "  labs(title = \"Overal employement rate\",\n",
    "       x = \"University\",\n",
    "       y = \"\")+\n",
    "  geom_text(aes(label=Emp_rate), hjust=1.6, color=\"black\", size=6)+\n",
    "  theme(\n",
    "  axis.title.x = element_text(size = 14),\n",
    "  axis.text.x = element_text(size = 16),\n",
    "  axis.text.y = element_text(size = 12),\n",
    "  axis.title.y = element_text(size = 14))+\n",
    "  coord_flip()"
   ]
  },
  {
   "cell_type": "code",
   "execution_count": 52,
   "metadata": {},
   "outputs": [],
   "source": [
    "marks <- read.csv(\"marks.csv\")"
   ]
  },
  {
   "cell_type": "code",
   "execution_count": 53,
   "metadata": {},
   "outputs": [
    {
     "data": {
      "text/html": [
       "<table>\n",
       "<thead><tr><th scope=col>Student</th><th scope=col>Final.Exam</th></tr></thead>\n",
       "<tbody>\n",
       "\t<tr><td>1 </td><td>15</td></tr>\n",
       "\t<tr><td>2 </td><td>25</td></tr>\n",
       "\t<tr><td>3 </td><td>14</td></tr>\n",
       "\t<tr><td>4 </td><td>19</td></tr>\n",
       "\t<tr><td>5 </td><td>26</td></tr>\n",
       "\t<tr><td>6 </td><td>12</td></tr>\n",
       "</tbody>\n",
       "</table>\n"
      ],
      "text/latex": [
       "\\begin{tabular}{r|ll}\n",
       " Student & Final.Exam\\\\\n",
       "\\hline\n",
       "\t 1  & 15\\\\\n",
       "\t 2  & 25\\\\\n",
       "\t 3  & 14\\\\\n",
       "\t 4  & 19\\\\\n",
       "\t 5  & 26\\\\\n",
       "\t 6  & 12\\\\\n",
       "\\end{tabular}\n"
      ],
      "text/markdown": [
       "\n",
       "| Student | Final.Exam |\n",
       "|---|---|\n",
       "| 1  | 15 |\n",
       "| 2  | 25 |\n",
       "| 3  | 14 |\n",
       "| 4  | 19 |\n",
       "| 5  | 26 |\n",
       "| 6  | 12 |\n",
       "\n"
      ],
      "text/plain": [
       "  Student Final.Exam\n",
       "1 1       15        \n",
       "2 2       25        \n",
       "3 3       14        \n",
       "4 4       19        \n",
       "5 5       26        \n",
       "6 6       12        "
      ]
     },
     "metadata": {},
     "output_type": "display_data"
    }
   ],
   "source": [
    "head(marks)"
   ]
  },
  {
   "cell_type": "code",
   "execution_count": null,
   "metadata": {},
   "outputs": [],
   "source": [
    "  "
   ]
  }
 ],
 "metadata": {
  "kernelspec": {
   "display_name": "R",
   "language": "R",
   "name": "ir"
  },
  "language_info": {
   "codemirror_mode": "r",
   "file_extension": ".r",
   "mimetype": "text/x-r-source",
   "name": "R",
   "pygments_lexer": "r",
   "version": "3.6.1"
  }
 },
 "nbformat": 4,
 "nbformat_minor": 2
}
